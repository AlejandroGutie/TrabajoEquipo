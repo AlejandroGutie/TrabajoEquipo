{
  "nbformat": 4,
  "nbformat_minor": 0,
  "metadata": {
    "colab": {
      "provenance": [],
      "include_colab_link": true
    },
    "kernelspec": {
      "name": "python3",
      "display_name": "Python 3"
    },
    "language_info": {
      "name": "python"
    }
  },
  "cells": [
    {
      "cell_type": "markdown",
      "metadata": {
        "id": "view-in-github",
        "colab_type": "text"
      },
      "source": [
        "<a href=\"https://colab.research.google.com/github/AlejandroGutie/TrabajoEquipo/blob/main/prueba1.ipynb\" target=\"_parent\"><img src=\"https://colab.research.google.com/assets/colab-badge.svg\" alt=\"Open In Colab\"/></a>"
      ]
    },
    {
      "cell_type": "markdown",
      "source": [
        "\n",
        "FUNDAMENTOS DE PROGRAMACION\n",
        "\n",
        "PRUEBA 1\n",
        "\n",
        "\n",
        "HUBERTH HINCAPIE\n",
        "\n",
        "YEISSON ALEJANDRO GUTIERREZ\n",
        "\n",
        "RAFAEL REYES VELASQUEZ\n"
      ],
      "metadata": {
        "id": "bQ4yJ8gt3psB"
      }
    },
    {
      "cell_type": "code",
      "source": [
        "#Ejercicio 1\n",
        "\n",
        "#se define la clase Pedido\n",
        "class Pedido():\n",
        "    def __init__(self, id_pedido):\n",
        "          \"\"\"se define el constructor, con los atributos id_pedido y la lista productos,\n",
        "             para realizar el almacenamiento de los atributos de cada uno de los productos.\n",
        "       \"\"\"\n",
        "          self.id_pedido = id_pedido #ip_pedido codigo unico que identifica el pedido\n",
        "          self.productos = []  #productos almacena los atributos del pedido\n",
        "\n",
        "    def agregar_producto(self, nombre_producto, cantidad, precio_unitario):  #funcion agregar productos con 3 argumentos\n",
        "          \"\"\"se crea un metodo de agregar productos en el cual se van introduciendo los atributos de cada uno de los productos que componen el pedido.\n",
        "          identificando, nombre, cantidad y precio unitario del producto.\n",
        "       \"\"\"\n",
        "          producto = {\n",
        "            'nombre': nombre_producto, #nombre del producto\n",
        "            'cantidad': cantidad, #cantidad solicitada\n",
        "            'precio_unitario': precio_unitario #precio unitario\n",
        "          }\n",
        "          self.productos.append(producto)  #agregamos el producto al arreglo\n",
        "\n",
        "    def mostrar_pedido(self):\n",
        "          \"\"\"se crea metodo mostrar_pedido, que premite listar los pedidos con sus respectivos productos, realizando calculos de subtotales x item y total de pedido.\n",
        "       \"\"\"\n",
        "          print(f\"\\npedido#{self.id_pedido}\")\n",
        "          total = 0\n",
        "          for producto in self.productos:\n",
        "            sub_total = 0\n",
        "            nombre = producto['nombre']\n",
        "            cantidad = producto['cantidad']\n",
        "            precio_unitario = producto['precio_unitario']\n",
        "            sub_total = precio_unitario * cantidad\n",
        "            total += sub_total\n",
        "            print(f\"- Producto: {nombre}, Cantidad: {cantidad}, precio unitario: {precio_unitario}, sub_total =${sub_total:.2f}\")\n",
        "\n",
        "          print(f\"TOTAL PEDIO: ${total:.2f} \")\n",
        "\n",
        "\n",
        "#DATOS DE PRUEBA PARA LOS METODOS\n",
        "#pedido1 = Pedido(id_pedido=1)\n",
        "#pedido1.agregar_producto(\"hambuguesa\",3, 12000)\n",
        "#pedido1.agregar_producto(\"papas\",1, 2500)\n",
        "#pedido1.agregar_producto(\"papddd\",10, 444543)\n",
        "\n",
        "#pedido2 = Pedido(id_pedido=2)\n",
        "#pedido2.agregar_producto(\"sdsds\",1, 13000)\n",
        "#pedido2.agregar_producto(\"sdsdsw\",2, 4400)\n",
        "\n",
        "#pedido3 = Pedido(id_pedido=3)\n",
        "#pedido3.agregar_producto(\"trtrtr\",1, 4000)\n",
        "#pedido3.agregar_producto(\"sdsdws\",2, 3500)\n",
        "\n",
        "#pedido1.mostrar_pedido()\n",
        "#pedido2.mostrar_pedido()\n",
        "#pedido3.mostrar_pedido()\n"
      ],
      "metadata": {
        "id": "zN5rzl-t5GTJ"
      },
      "execution_count": null,
      "outputs": []
    },
    {
      "cell_type": "markdown",
      "source": [
        "\n",
        "3. La pertinencia de la clase en el ámbito de las comidas rápidas se compone como una herramienta muy útil que ayuda a mejorar el negocio, permitiendo el almacenamiento e identificación de los productos para cada pedido, lo que agiliza la atención en los puntos de venta, el manejo de inventarios, contabilidad dentro del negocio.\n",
        "\n",
        "\n",
        "4. Usar la clase \"Cliente\" junto con la clase \"Pedido\" es muy util porque:\n",
        "se gestionaria la informacion de nuestros clientes, informacion relevante de los clientes que realizan los pedidos, como su nombre, número de teléfono y dirección entre otros.\n",
        "se podria ralacionar o asociar los pedidos con la informacion del cliente especifico, esto ayudaria a le gestion de pedidos en el futuro.\n",
        "agiliar aun mas el preceso de asignacion de pedidos al contar don los datos de contacto cargados.\n",
        "falicitar a futuro la creacion de politicas para la fidelizacion de clientes, como descuentos y notificaciones por ejemplo.\n",
        "\n"
      ],
      "metadata": {
        "id": "de6swc3E_7zO"
      }
    },
    {
      "cell_type": "code",
      "source": [
        "class Cliente:\n",
        "    def __init__(self, id_cliente):\n",
        "        self.id_cliente = id_cliente\n",
        "        self.datos_clientes = []\n",
        "\n",
        "    def agregar_clientes(self, nombre, telefono, direccion):\n",
        "        cliente = {\n",
        "            'nombre': nombre,\n",
        "            'telefono': telefono,\n",
        "            'direccion': direccion\n",
        "        }\n",
        "        self.datos_clientes.append(cliente)\n"
      ],
      "metadata": {
        "id": "haLoW_wXCYDr"
      },
      "execution_count": null,
      "outputs": []
    },
    {
      "cell_type": "code",
      "source": [
        "#Ejercicio 2, Punto 1\n",
        "\n",
        "#importamos la libreria numpy\n",
        "import numpy as np\n",
        "\n",
        "#alimentamos los datos de la matriz de coeficientes\n",
        "A =  np.matrix([[2, 3, -1, 4, 5],\n",
        "                [1, -2, 4, -3, 1],\n",
        "                [3, 2, -3, 5, -2],\n",
        "                [4, 1, -2, 3, 2],\n",
        "                [1, 1, 1, 1, 1]])\n",
        "\n",
        "#alimentamos los datos de la matriz de terminos independientes\n",
        "B = np.matrix([[15],\n",
        "                [6],\n",
        "                [11],\n",
        "                [8],\n",
        "                [7]])\n",
        "\n",
        "#calculo de la solucion del sistema de ecuaciones\n",
        "X = (A**-1)*B\n",
        "\n",
        "\n",
        "#print(X)\n",
        "#Se muestran resultados en pantalla.\n",
        "print(f\" x ={X[:1]}\")\n",
        "print(f\" y ={X[1:2]}\")\n",
        "print(f\" z ={X[2:3]}\")\n",
        "print(f\" w ={X[3:4]}\")\n",
        "print(f\" v ={X[4:]}\")\n",
        "\n",
        "\n"
      ],
      "metadata": {
        "colab": {
          "base_uri": "https://localhost:8080/"
        },
        "id": "RJjnZZtd9o5p",
        "outputId": "9ccae655-c31d-40ab-8e45-9833aa85dca9"
      },
      "execution_count": null,
      "outputs": [
        {
          "output_type": "stream",
          "name": "stdout",
          "text": [
            " x =[[-1.67741935]]\n",
            " y =[[-7.87096774]]\n",
            " z =[[5.12903226]]\n",
            " w =[[10.]]\n",
            " v =[[1.41935484]]\n"
          ]
        }
      ]
    },
    {
      "cell_type": "code",
      "source": [
        "#Ejercicio 2, punto 2\n",
        "\n",
        "#importamos la libreria numpy\n",
        "import numpy as np\n",
        "\n",
        "def Euler(n):\n",
        "  i = np.arange(1,n+1)\n",
        "  print(f\"{1 + np.sum(1/(np.cumprod(i))):.5f}\")\n",
        "\n",
        "Euler(65)\n"
      ],
      "metadata": {
        "colab": {
          "base_uri": "https://localhost:8080/"
        },
        "id": "FUwdH0oIxjvX",
        "outputId": "b192dd67-b683-47a2-fc4b-5e700ad1a32e"
      },
      "execution_count": null,
      "outputs": [
        {
          "output_type": "stream",
          "name": "stdout",
          "text": [
            "2.71828\n"
          ]
        }
      ]
    },
    {
      "cell_type": "code",
      "source": [
        "np.prod(10)"
      ],
      "metadata": {
        "colab": {
          "base_uri": "https://localhost:8080/"
        },
        "id": "w8qef5ny6aTb",
        "outputId": "cff8edd6-7e06-4502-c42f-9d9b539c6dbd"
      },
      "execution_count": null,
      "outputs": [
        {
          "output_type": "execute_result",
          "data": {
            "text/plain": [
              "10"
            ]
          },
          "metadata": {},
          "execution_count": 168
        }
      ]
    },
    {
      "cell_type": "code",
      "execution_count": null,
      "metadata": {
        "id": "h53juoB2x24C",
        "colab": {
          "base_uri": "https://localhost:8080/"
        },
        "outputId": "d54688ad-906a-4928-f713-a13b967301a2"
      },
      "outputs": [
        {
          "output_type": "stream",
          "name": "stdout",
          "text": [
            " valores propios: [5.44948974 0.55051026 1.        ]\n"
          ]
        }
      ],
      "source": [
        "#Ejercicio 2, parte 3\n",
        "\n",
        "\n",
        "#importamos la libreria numpy\n",
        "import numpy as np\n",
        "\n",
        "\n",
        "# Definir la matriz cuadrada de ejemplo\n",
        "a = np.array([[2, 1, 1],\n",
        "              [4, 3, 2],\n",
        "              [1, 1, 2]])\n",
        "\n",
        "# Calculamos los valores propios o landas de la matriz de 3x3\n",
        "values = np.linalg.eigvals(a)\n",
        "\n",
        "#se imprimen los valores propios\n",
        "print(f\" valores propios: {values}\")\n"
      ]
    },
    {
      "cell_type": "markdown",
      "source": [
        "\n",
        "el polinomio caracteristico de la matriz suministrada en el ejercicio es el siguiente:\n",
        "\n",
        "  $$X^{3} - 7X^{2} + {9}X - {3} $$"
      ],
      "metadata": {
        "id": "KZTV0C6x93iw"
      }
    }
  ]
}